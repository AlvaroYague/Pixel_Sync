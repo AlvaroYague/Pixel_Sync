{
 "cells": [
  {
   "cell_type": "code",
   "execution_count": null,
   "metadata": {},
   "outputs": [],
   "source": [
    "#%pip install apify-client"
   ]
  },
  {
   "cell_type": "code",
   "execution_count": null,
   "metadata": {},
   "outputs": [],
   "source": [
    "from apify_client import ApifyClient     # importamos cliente de API externa\n",
    "import requests as req\n",
    "import pandas as pd"
   ]
  },
  {
   "cell_type": "code",
   "execution_count": 18,
   "metadata": {},
   "outputs": [],
   "source": [
    "with open('apify.txt', 'r') as archivo:\n",
    "    token = archivo.read()\n",
    "\n",
    "apify_client = ApifyClient(token)   # inicializamos cliente de API externa\n",
    "\n",
    "actor_call = apify_client.actor('epctex/metacritic-scraper').call()"
   ]
  },
  {
   "cell_type": "code",
   "execution_count": 20,
   "metadata": {},
   "outputs": [],
   "source": [
    "apify_dataset_url = 'https://api.apify.com/v2/datasets/WRSzhAp6IzSGw9xh6/items?format=json'  # URL del dataset final desde API externa\n",
    "\n",
    "response = req.get(apify_dataset_url)"
   ]
  },
  {
   "cell_type": "code",
   "execution_count": 21,
   "metadata": {},
   "outputs": [],
   "source": [
    "if response.status_code == 200:\n",
    "    dataset_data = response.json()         # obtenemos datos del dataset"
   ]
  },
  {
   "cell_type": "code",
   "execution_count": 23,
   "metadata": {},
   "outputs": [],
   "source": [
    "df = pd.DataFrame(dataset_data)        # creamos dataframe con los datos del dataset"
   ]
  },
  {
   "cell_type": "code",
   "execution_count": 26,
   "metadata": {},
   "outputs": [
    {
     "name": "stdout",
     "output_type": "stream",
     "text": [
      "<class 'pandas.core.frame.DataFrame'>\n",
      "RangeIndex: 12703 entries, 0 to 12702\n",
      "Data columns (total 14 columns):\n",
      " #   Column              Non-Null Count  Dtype  \n",
      "---  ------              --------------  -----  \n",
      " 0   type                12703 non-null  object \n",
      " 1   url                 12703 non-null  object \n",
      " 2   title               12703 non-null  object \n",
      " 3   releaseDate         12703 non-null  object \n",
      " 4   publisherName       12698 non-null  object \n",
      " 5   publisherUrl        12703 non-null  object \n",
      " 6   summary             12648 non-null  object \n",
      " 7   metascore           12696 non-null  float64\n",
      " 8   userscore           12703 non-null  float64\n",
      " 9   genres              12703 non-null  object \n",
      " 10  awards              12703 non-null  object \n",
      " 11  section             12703 non-null  object \n",
      " 12  platforms           12703 non-null  object \n",
      " 13  userReviewsSummary  12703 non-null  object \n",
      "dtypes: float64(2), object(12)\n",
      "memory usage: 1.4+ MB\n"
     ]
    }
   ],
   "source": [
    "df.info()                            # mostramos información del dataframe"
   ]
  },
  {
   "cell_type": "code",
   "execution_count": 27,
   "metadata": {},
   "outputs": [],
   "source": [
    "df.to_csv('metacritic.csv', index=False)  # guardamos dataframe en archivo csv"
   ]
  }
 ],
 "metadata": {
  "kernelspec": {
   "display_name": "base",
   "language": "python",
   "name": "python3"
  },
  "language_info": {
   "codemirror_mode": {
    "name": "ipython",
    "version": 3
   },
   "file_extension": ".py",
   "mimetype": "text/x-python",
   "name": "python",
   "nbconvert_exporter": "python",
   "pygments_lexer": "ipython3",
   "version": "3.11.4"
  }
 },
 "nbformat": 4,
 "nbformat_minor": 2
}
