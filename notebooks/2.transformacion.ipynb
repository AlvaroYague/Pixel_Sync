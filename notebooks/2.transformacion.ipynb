{
 "cells": [
  {
   "cell_type": "markdown",
   "metadata": {},
   "source": [
    "# 2. Transformación de los datos con Pandas"
   ]
  },
  {
   "cell_type": "code",
   "execution_count": 11,
   "metadata": {},
   "outputs": [],
   "source": [
    "import pandas as pd\n",
    "import numpy as np\n",
    "import matplotlib.pyplot as plt\n",
    "import seaborn as sns\n",
    "import ast\n",
    "from src.funciones import *"
   ]
  },
  {
   "cell_type": "code",
   "execution_count": 12,
   "metadata": {},
   "outputs": [],
   "source": [
    "df = pd.read_csv('..\\\\Proyecto_Final\\\\data\\\\metacritic.csv')  # importamos el dataset"
   ]
  },
  {
   "cell_type": "markdown",
   "metadata": {},
   "source": [
    "### Realizamos una exploración de los datos para después proceder a su transformación y limpieza. En primer lugar, manejaremos nulos y duplicados, para luego pasar a las columnas que queremos transformar."
   ]
  },
  {
   "cell_type": "code",
   "execution_count": 13,
   "metadata": {},
   "outputs": [
    {
     "name": "stdout",
     "output_type": "stream",
     "text": [
      "<class 'pandas.core.frame.DataFrame'>\n",
      "RangeIndex: 12703 entries, 0 to 12702\n",
      "Data columns (total 14 columns):\n",
      " #   Column              Non-Null Count  Dtype  \n",
      "---  ------              --------------  -----  \n",
      " 0   type                12703 non-null  object \n",
      " 1   url                 12703 non-null  object \n",
      " 2   title               12703 non-null  object \n",
      " 3   releaseDate         12668 non-null  object \n",
      " 4   publisherName       12698 non-null  object \n",
      " 5   publisherUrl        12698 non-null  object \n",
      " 6   summary             12648 non-null  object \n",
      " 7   metascore           12696 non-null  float64\n",
      " 8   userscore           12703 non-null  float64\n",
      " 9   genres              12703 non-null  object \n",
      " 10  awards              12703 non-null  object \n",
      " 11  section             12703 non-null  object \n",
      " 12  platforms           12703 non-null  object \n",
      " 13  userReviewsSummary  12703 non-null  object \n",
      "dtypes: float64(2), object(12)\n",
      "memory usage: 1.4+ MB\n"
     ]
    }
   ],
   "source": [
    "df.info()  # exploramos el dataset, obervamos que hay algunos nulos"
   ]
  },
  {
   "cell_type": "code",
   "execution_count": 14,
   "metadata": {},
   "outputs": [
    {
     "data": {
      "text/plain": [
       "(12703, 14)"
      ]
     },
     "execution_count": 14,
     "metadata": {},
     "output_type": "execute_result"
    }
   ],
   "source": [
    "df.shape  # observamos que hay 12703 registros y 14 columnas"
   ]
  },
  {
   "cell_type": "code",
   "execution_count": 15,
   "metadata": {},
   "outputs": [
    {
     "data": {
      "text/html": [
       "<div>\n",
       "<style scoped>\n",
       "    .dataframe tbody tr th:only-of-type {\n",
       "        vertical-align: middle;\n",
       "    }\n",
       "\n",
       "    .dataframe tbody tr th {\n",
       "        vertical-align: top;\n",
       "    }\n",
       "\n",
       "    .dataframe thead th {\n",
       "        text-align: right;\n",
       "    }\n",
       "</style>\n",
       "<table border=\"1\" class=\"dataframe\">\n",
       "  <thead>\n",
       "    <tr style=\"text-align: right;\">\n",
       "      <th></th>\n",
       "      <th>type</th>\n",
       "      <th>url</th>\n",
       "      <th>title</th>\n",
       "      <th>releaseDate</th>\n",
       "      <th>publisherName</th>\n",
       "      <th>publisherUrl</th>\n",
       "      <th>summary</th>\n",
       "      <th>metascore</th>\n",
       "      <th>userscore</th>\n",
       "      <th>genres</th>\n",
       "      <th>awards</th>\n",
       "      <th>section</th>\n",
       "      <th>platforms</th>\n",
       "      <th>userReviewsSummary</th>\n",
       "    </tr>\n",
       "  </thead>\n",
       "  <tbody>\n",
       "    <tr>\n",
       "      <th>0</th>\n",
       "      <td>game</td>\n",
       "      <td>https://www.metacritic.com/game/the-orange-box</td>\n",
       "      <td>The Orange Box</td>\n",
       "      <td>2007-10-10</td>\n",
       "      <td>EA Games</td>\n",
       "      <td>https://www.metacritic.com/company/ea-games/</td>\n",
       "      <td>Games included in The Orange Box compilation: ...</td>\n",
       "      <td>96.0</td>\n",
       "      <td>8.9</td>\n",
       "      <td>['Compilation']</td>\n",
       "      <td>[]</td>\n",
       "      <td>Xbox 360</td>\n",
       "      <td>['PC', 'Xbox 360', 'PlayStation 3']</td>\n",
       "      <td>{'score': 8.9, 'reviewCount': 739, 'positive':...</td>\n",
       "    </tr>\n",
       "    <tr>\n",
       "      <th>1</th>\n",
       "      <td>game</td>\n",
       "      <td>https://www.metacritic.com/game/batman-arkham-...</td>\n",
       "      <td>Batman: Arkham City</td>\n",
       "      <td>2011-10-18</td>\n",
       "      <td>Warner Bros. Interactive Entertainment</td>\n",
       "      <td>https://www.metacritic.com/company/warner-bros...</td>\n",
       "      <td>Developed by Rocksteady Studios, Batman: Arkha...</td>\n",
       "      <td>94.0</td>\n",
       "      <td>8.8</td>\n",
       "      <td>['Open-World Action']</td>\n",
       "      <td>[]</td>\n",
       "      <td>Xbox 360</td>\n",
       "      <td>['PC', 'Xbox 360', 'PlayStation 3', 'Nintendo ...</td>\n",
       "      <td>{'score': 8.8, 'reviewCount': 2238, 'positive'...</td>\n",
       "    </tr>\n",
       "    <tr>\n",
       "      <th>2</th>\n",
       "      <td>game</td>\n",
       "      <td>https://www.metacritic.com/game/uncharted-2-am...</td>\n",
       "      <td>Uncharted 2: Among Thieves</td>\n",
       "      <td>2009-10-13</td>\n",
       "      <td>SCEA</td>\n",
       "      <td>https://www.metacritic.com/company/scea/</td>\n",
       "      <td>Fortune hunter Nathan Drake returns in Unchart...</td>\n",
       "      <td>96.0</td>\n",
       "      <td>8.8</td>\n",
       "      <td>['Linear Action Adventure']</td>\n",
       "      <td>[]</td>\n",
       "      <td>PlayStation 3</td>\n",
       "      <td>['PlayStation 3']</td>\n",
       "      <td>{'score': 8.8, 'reviewCount': 6491, 'positive'...</td>\n",
       "    </tr>\n",
       "    <tr>\n",
       "      <th>3</th>\n",
       "      <td>game</td>\n",
       "      <td>https://www.metacritic.com/game/resident-evil-...</td>\n",
       "      <td>Resident Evil 4 (2005)</td>\n",
       "      <td>2005-01-11</td>\n",
       "      <td>Capcom</td>\n",
       "      <td>https://www.metacritic.com/company/capcom/</td>\n",
       "      <td>In Resident Evil 4 players are reacquainted wi...</td>\n",
       "      <td>96.0</td>\n",
       "      <td>9.1</td>\n",
       "      <td>['Survival']</td>\n",
       "      <td>[]</td>\n",
       "      <td>GameCube</td>\n",
       "      <td>['GameCube', 'PlayStation 2', 'PC', 'Wii']</td>\n",
       "      <td>{'score': 9.1, 'reviewCount': 1871, 'positive'...</td>\n",
       "    </tr>\n",
       "    <tr>\n",
       "      <th>4</th>\n",
       "      <td>game</td>\n",
       "      <td>https://www.metacritic.com/game/bioshock</td>\n",
       "      <td>BioShock</td>\n",
       "      <td>2007-08-21</td>\n",
       "      <td>2K Games</td>\n",
       "      <td>https://www.metacritic.com/company/2k-games/</td>\n",
       "      <td>Going beyond \"run and gun corridors,\" \"monster...</td>\n",
       "      <td>96.0</td>\n",
       "      <td>9.0</td>\n",
       "      <td>['FPS']</td>\n",
       "      <td>[]</td>\n",
       "      <td>Xbox 360</td>\n",
       "      <td>['Xbox 360', 'PC', 'PlayStation 3', 'iOS (iPho...</td>\n",
       "      <td>{'score': 9, 'reviewCount': 2415, 'positive': ...</td>\n",
       "    </tr>\n",
       "  </tbody>\n",
       "</table>\n",
       "</div>"
      ],
      "text/plain": [
       "   type                                                url  \\\n",
       "0  game     https://www.metacritic.com/game/the-orange-box   \n",
       "1  game  https://www.metacritic.com/game/batman-arkham-...   \n",
       "2  game  https://www.metacritic.com/game/uncharted-2-am...   \n",
       "3  game  https://www.metacritic.com/game/resident-evil-...   \n",
       "4  game           https://www.metacritic.com/game/bioshock   \n",
       "\n",
       "                        title releaseDate  \\\n",
       "0              The Orange Box  2007-10-10   \n",
       "1         Batman: Arkham City  2011-10-18   \n",
       "2  Uncharted 2: Among Thieves  2009-10-13   \n",
       "3      Resident Evil 4 (2005)  2005-01-11   \n",
       "4                    BioShock  2007-08-21   \n",
       "\n",
       "                            publisherName  \\\n",
       "0                                EA Games   \n",
       "1  Warner Bros. Interactive Entertainment   \n",
       "2                                    SCEA   \n",
       "3                                  Capcom   \n",
       "4                                2K Games   \n",
       "\n",
       "                                        publisherUrl  \\\n",
       "0       https://www.metacritic.com/company/ea-games/   \n",
       "1  https://www.metacritic.com/company/warner-bros...   \n",
       "2           https://www.metacritic.com/company/scea/   \n",
       "3         https://www.metacritic.com/company/capcom/   \n",
       "4       https://www.metacritic.com/company/2k-games/   \n",
       "\n",
       "                                             summary  metascore  userscore  \\\n",
       "0  Games included in The Orange Box compilation: ...       96.0        8.9   \n",
       "1  Developed by Rocksteady Studios, Batman: Arkha...       94.0        8.8   \n",
       "2  Fortune hunter Nathan Drake returns in Unchart...       96.0        8.8   \n",
       "3  In Resident Evil 4 players are reacquainted wi...       96.0        9.1   \n",
       "4  Going beyond \"run and gun corridors,\" \"monster...       96.0        9.0   \n",
       "\n",
       "                        genres awards        section  \\\n",
       "0              ['Compilation']     []       Xbox 360   \n",
       "1        ['Open-World Action']     []       Xbox 360   \n",
       "2  ['Linear Action Adventure']     []  PlayStation 3   \n",
       "3                 ['Survival']     []       GameCube   \n",
       "4                      ['FPS']     []       Xbox 360   \n",
       "\n",
       "                                           platforms  \\\n",
       "0                ['PC', 'Xbox 360', 'PlayStation 3']   \n",
       "1  ['PC', 'Xbox 360', 'PlayStation 3', 'Nintendo ...   \n",
       "2                                  ['PlayStation 3']   \n",
       "3         ['GameCube', 'PlayStation 2', 'PC', 'Wii']   \n",
       "4  ['Xbox 360', 'PC', 'PlayStation 3', 'iOS (iPho...   \n",
       "\n",
       "                                  userReviewsSummary  \n",
       "0  {'score': 8.9, 'reviewCount': 739, 'positive':...  \n",
       "1  {'score': 8.8, 'reviewCount': 2238, 'positive'...  \n",
       "2  {'score': 8.8, 'reviewCount': 6491, 'positive'...  \n",
       "3  {'score': 9.1, 'reviewCount': 1871, 'positive'...  \n",
       "4  {'score': 9, 'reviewCount': 2415, 'positive': ...  "
      ]
     },
     "execution_count": 15,
     "metadata": {},
     "output_type": "execute_result"
    }
   ],
   "source": [
    "df.head()  # observamos las primeras 5 filas del dataset"
   ]
  },
  {
   "cell_type": "code",
   "execution_count": 16,
   "metadata": {},
   "outputs": [
    {
     "data": {
      "text/plain": [
       "array(['game'], dtype=object)"
      ]
     },
     "execution_count": 16,
     "metadata": {},
     "output_type": "execute_result"
    }
   ],
   "source": [
    "df['type'].unique()  # solo hay un un valor en la columna type, por lo que no aporta información. La eliminamos."
   ]
  },
  {
   "cell_type": "code",
   "execution_count": 17,
   "metadata": {},
   "outputs": [],
   "source": [
    "df = df.drop(['type'], axis=1)  # eliminamos la columna type"
   ]
  },
  {
   "cell_type": "code",
   "execution_count": 18,
   "metadata": {},
   "outputs": [
    {
     "data": {
      "text/plain": [
       "array(['[]'], dtype=object)"
      ]
     },
     "execution_count": 18,
     "metadata": {},
     "output_type": "execute_result"
    }
   ],
   "source": [
    "df['awards'].unique()   # la columna awards tampoco nos aporta valor, por lo que también la eliminamos"
   ]
  },
  {
   "cell_type": "code",
   "execution_count": 19,
   "metadata": {},
   "outputs": [],
   "source": [
    "df = df.drop(['awards'], axis=1)  # eliminamos la columna awards"
   ]
  },
  {
   "cell_type": "code",
   "execution_count": 20,
   "metadata": {},
   "outputs": [
    {
     "data": {
      "text/plain": [
       "url                    0\n",
       "title                  0\n",
       "releaseDate           35\n",
       "publisherName          5\n",
       "publisherUrl           5\n",
       "summary               55\n",
       "metascore              7\n",
       "userscore              0\n",
       "genres                 0\n",
       "section                0\n",
       "platforms              0\n",
       "userReviewsSummary     0\n",
       "dtype: int64"
      ]
     },
     "execution_count": 20,
     "metadata": {},
     "output_type": "execute_result"
    }
   ],
   "source": [
    "df.isna().sum()  # al observar los nulos, vemos que se concentran su mayoría en las columnas 'release date' y 'summary'"
   ]
  },
  {
   "cell_type": "code",
   "execution_count": 21,
   "metadata": {},
   "outputs": [],
   "source": [
    "df = df.dropna() #prescindimos de los nulos ya que son muy pocos registros"
   ]
  },
  {
   "cell_type": "code",
   "execution_count": 22,
   "metadata": {},
   "outputs": [
    {
     "data": {
      "text/plain": [
       "(12607, 12)"
      ]
     },
     "execution_count": 22,
     "metadata": {},
     "output_type": "execute_result"
    }
   ],
   "source": [
    "df.shape  # se han elimnado 99 registros"
   ]
  },
  {
   "cell_type": "code",
   "execution_count": null,
   "metadata": {},
   "outputs": [],
   "source": [
    "df = df.reindex(columns= ['metascore','userscore', 'title', 'genres', 'section', 'publisherName', 'platforms', 'releaseDate', 'summary', 'userReviewsSummary','url','publisherUrl'])\n",
    "df.head()    # hacemos un reindex de las columnas para que nos sea más facil visualizar los datos que nos interesan"
   ]
  },
  {
   "cell_type": "markdown",
   "metadata": {},
   "source": [
    "### COLUMNA METASCORE"
   ]
  },
  {
   "cell_type": "code",
   "execution_count": 24,
   "metadata": {},
   "outputs": [],
   "source": [
    "df['metascore'] = df['metascore'].astype(int) # convertimos a enteros los valores de metascore, ya que no tienen decimales"
   ]
  },
  {
   "cell_type": "code",
   "execution_count": 25,
   "metadata": {},
   "outputs": [],
   "source": [
    "df = df.sort_values(by='metascore', ascending=False) # ordenamos el dataframe por los valores de la columna metascore"
   ]
  },
  {
   "cell_type": "code",
   "execution_count": 26,
   "metadata": {},
   "outputs": [
    {
     "data": {
      "text/html": [
       "<div>\n",
       "<style scoped>\n",
       "    .dataframe tbody tr th:only-of-type {\n",
       "        vertical-align: middle;\n",
       "    }\n",
       "\n",
       "    .dataframe tbody tr th {\n",
       "        vertical-align: top;\n",
       "    }\n",
       "\n",
       "    .dataframe thead th {\n",
       "        text-align: right;\n",
       "    }\n",
       "</style>\n",
       "<table border=\"1\" class=\"dataframe\">\n",
       "  <thead>\n",
       "    <tr style=\"text-align: right;\">\n",
       "      <th></th>\n",
       "      <th>metascore</th>\n",
       "      <th>userscore</th>\n",
       "      <th>title</th>\n",
       "      <th>genres</th>\n",
       "      <th>section</th>\n",
       "      <th>publisherName</th>\n",
       "      <th>platforms</th>\n",
       "      <th>releaseDate</th>\n",
       "      <th>summary</th>\n",
       "      <th>userReviewsSummary</th>\n",
       "      <th>url</th>\n",
       "      <th>publisherUrl</th>\n",
       "    </tr>\n",
       "  </thead>\n",
       "  <tbody>\n",
       "    <tr>\n",
       "      <th>23</th>\n",
       "      <td>99</td>\n",
       "      <td>9.1</td>\n",
       "      <td>The Legend of Zelda: Ocarina of Time</td>\n",
       "      <td>['Open-World Action']</td>\n",
       "      <td>Nintendo 64</td>\n",
       "      <td>Nintendo</td>\n",
       "      <td>['Nintendo 64']</td>\n",
       "      <td>1998-11-23</td>\n",
       "      <td>As a young boy, Link is tricked by Ganondorf, ...</td>\n",
       "      <td>{'score': 9.1, 'reviewCount': 8393, 'positive'...</td>\n",
       "      <td>https://www.metacritic.com/game/the-legend-of-...</td>\n",
       "      <td>https://www.metacritic.com/company/nintendo/</td>\n",
       "    </tr>\n",
       "    <tr>\n",
       "      <th>22</th>\n",
       "      <td>98</td>\n",
       "      <td>8.2</td>\n",
       "      <td>SoulCalibur</td>\n",
       "      <td>['3D Fighting']</td>\n",
       "      <td>Dreamcast</td>\n",
       "      <td>Namco</td>\n",
       "      <td>['Dreamcast', 'iOS (iPhone/iPad)', 'Xbox 360']</td>\n",
       "      <td>1999-09-08</td>\n",
       "      <td>[Xbox Live Arcade]  Soulcalibur, the highest M...</td>\n",
       "      <td>{'score': 8.2, 'reviewCount': 414, 'positive':...</td>\n",
       "      <td>https://www.metacritic.com/game/soulcalibur</td>\n",
       "      <td>https://www.metacritic.com/company/namco/</td>\n",
       "    </tr>\n",
       "    <tr>\n",
       "      <th>19</th>\n",
       "      <td>98</td>\n",
       "      <td>8.1</td>\n",
       "      <td>Grand Theft Auto IV</td>\n",
       "      <td>['Open-World Action']</td>\n",
       "      <td>Xbox 360</td>\n",
       "      <td>Rockstar Games</td>\n",
       "      <td>['PlayStation 3', 'Xbox 360', 'PC']</td>\n",
       "      <td>2008-04-29</td>\n",
       "      <td>[Metacritic's 2008 PS3 Game of the Year; Also ...</td>\n",
       "      <td>{'score': 8.1, 'reviewCount': 2813, 'positive'...</td>\n",
       "      <td>https://www.metacritic.com/game/grand-theft-au...</td>\n",
       "      <td>https://www.metacritic.com/company/rockstar-ga...</td>\n",
       "    </tr>\n",
       "    <tr>\n",
       "      <th>8</th>\n",
       "      <td>97</td>\n",
       "      <td>8.9</td>\n",
       "      <td>Super Mario Odyssey</td>\n",
       "      <td>['3D Platformer']</td>\n",
       "      <td>Nintendo Switch</td>\n",
       "      <td>Nintendo</td>\n",
       "      <td>['Nintendo Switch']</td>\n",
       "      <td>2017-10-27</td>\n",
       "      <td>New Evolution of Mario Sandbox-Style Gameplay....</td>\n",
       "      <td>{'score': 8.9, 'reviewCount': 8119, 'positive'...</td>\n",
       "      <td>https://www.metacritic.com/game/super-mario-od...</td>\n",
       "      <td>https://www.metacritic.com/company/nintendo/</td>\n",
       "    </tr>\n",
       "    <tr>\n",
       "      <th>10</th>\n",
       "      <td>97</td>\n",
       "      <td>8.3</td>\n",
       "      <td>Grand Theft Auto III</td>\n",
       "      <td>['Open-World Action']</td>\n",
       "      <td>PlayStation 2</td>\n",
       "      <td>Rockstar Games</td>\n",
       "      <td>['PlayStation 2', 'PC', 'iOS (iPhone/iPad)', '...</td>\n",
       "      <td>2001-10-22</td>\n",
       "      <td>Players are put at the heart of their very own...</td>\n",
       "      <td>{'score': 8.3, 'reviewCount': 1106, 'positive'...</td>\n",
       "      <td>https://www.metacritic.com/game/grand-theft-au...</td>\n",
       "      <td>https://www.metacritic.com/company/rockstar-ga...</td>\n",
       "    </tr>\n",
       "  </tbody>\n",
       "</table>\n",
       "</div>"
      ],
      "text/plain": [
       "    metascore  userscore                                 title  \\\n",
       "23         99        9.1  The Legend of Zelda: Ocarina of Time   \n",
       "22         98        8.2                           SoulCalibur   \n",
       "19         98        8.1                   Grand Theft Auto IV   \n",
       "8          97        8.9                   Super Mario Odyssey   \n",
       "10         97        8.3                  Grand Theft Auto III   \n",
       "\n",
       "                   genres          section   publisherName  \\\n",
       "23  ['Open-World Action']      Nintendo 64        Nintendo   \n",
       "22        ['3D Fighting']        Dreamcast           Namco   \n",
       "19  ['Open-World Action']         Xbox 360  Rockstar Games   \n",
       "8       ['3D Platformer']  Nintendo Switch        Nintendo   \n",
       "10  ['Open-World Action']    PlayStation 2  Rockstar Games   \n",
       "\n",
       "                                            platforms releaseDate  \\\n",
       "23                                    ['Nintendo 64']  1998-11-23   \n",
       "22     ['Dreamcast', 'iOS (iPhone/iPad)', 'Xbox 360']  1999-09-08   \n",
       "19                ['PlayStation 3', 'Xbox 360', 'PC']  2008-04-29   \n",
       "8                                 ['Nintendo Switch']  2017-10-27   \n",
       "10  ['PlayStation 2', 'PC', 'iOS (iPhone/iPad)', '...  2001-10-22   \n",
       "\n",
       "                                              summary  \\\n",
       "23  As a young boy, Link is tricked by Ganondorf, ...   \n",
       "22  [Xbox Live Arcade]  Soulcalibur, the highest M...   \n",
       "19  [Metacritic's 2008 PS3 Game of the Year; Also ...   \n",
       "8   New Evolution of Mario Sandbox-Style Gameplay....   \n",
       "10  Players are put at the heart of their very own...   \n",
       "\n",
       "                                   userReviewsSummary  \\\n",
       "23  {'score': 9.1, 'reviewCount': 8393, 'positive'...   \n",
       "22  {'score': 8.2, 'reviewCount': 414, 'positive':...   \n",
       "19  {'score': 8.1, 'reviewCount': 2813, 'positive'...   \n",
       "8   {'score': 8.9, 'reviewCount': 8119, 'positive'...   \n",
       "10  {'score': 8.3, 'reviewCount': 1106, 'positive'...   \n",
       "\n",
       "                                                  url  \\\n",
       "23  https://www.metacritic.com/game/the-legend-of-...   \n",
       "22        https://www.metacritic.com/game/soulcalibur   \n",
       "19  https://www.metacritic.com/game/grand-theft-au...   \n",
       "8   https://www.metacritic.com/game/super-mario-od...   \n",
       "10  https://www.metacritic.com/game/grand-theft-au...   \n",
       "\n",
       "                                         publisherUrl  \n",
       "23       https://www.metacritic.com/company/nintendo/  \n",
       "22          https://www.metacritic.com/company/namco/  \n",
       "19  https://www.metacritic.com/company/rockstar-ga...  \n",
       "8        https://www.metacritic.com/company/nintendo/  \n",
       "10  https://www.metacritic.com/company/rockstar-ga...  "
      ]
     },
     "execution_count": 26,
     "metadata": {},
     "output_type": "execute_result"
    }
   ],
   "source": [
    "df.head()"
   ]
  },
  {
   "cell_type": "markdown",
   "metadata": {},
   "source": [
    "### COLUMNA GENRES"
   ]
  },
  {
   "cell_type": "code",
   "execution_count": null,
   "metadata": {},
   "outputs": [],
   "source": [
    "df.genres.unique() # hay muchos valores para la columna Genres, por lo que intentaremos unificarlos para facilitar los filtros"
   ]
  },
  {
   "cell_type": "code",
   "execution_count": 44,
   "metadata": {},
   "outputs": [],
   "source": [
    "df['genres'] = df['genres'].apply(lambda x: ', '.join(ast.literal_eval(x))) # usamos Abstract Syntax Trees para sacar los valores de la lista"
   ]
  },
  {
   "cell_type": "code",
   "execution_count": 47,
   "metadata": {},
   "outputs": [],
   "source": [
    "# Aplicamos un mapeo para unificar los valores de la columna genres\n",
    "\n",
    "genre_mapping = {\n",
    "    \"2D Beat-'Em-Up\": 'Fighting',\n",
    "    '2D Fighting': 'Fighting',\n",
    "    '2D Platformer': 'Platformer',\n",
    "    \"3D Beat-'Em-Up\": 'Fighting',\n",
    "    '3D Fighting': 'Fighting',\n",
    "    '3D Platformer': 'Platformer',\n",
    "    '4X Strategy': 'Strategy',\n",
    "    'Action': 'Action',\n",
    "    'Action Adventure': 'Adventure',\n",
    "    'Action Puzzle': 'Puzzle',\n",
    "    'Action RPG': 'RPG',\n",
    "    'Adventure': 'Adventure',\n",
    "    'Aircraft Combat Sim': 'Simulation',\n",
    "    'Aircraft Sim': 'Simulation',\n",
    "    'Application': 'Others',\n",
    "    'Arcade': 'Arcade',\n",
    "    'Arcade Racing': 'Racing',\n",
    "    'Artillery': 'Strategy',\n",
    "    'Athletics': 'Sports',\n",
    "    'Auto Racing': 'Racing',\n",
    "    'Auto Racing Sim': 'Racing',\n",
    "    'Baseball': 'Sports',\n",
    "    'Baseball Sim': 'Sports',\n",
    "    'Basketball': 'Sports',\n",
    "    'Basketball Sim': 'Sports',\n",
    "    'Biking': 'Sports',\n",
    "    'Billiards': 'Sports',\n",
    "    'Board': 'Puzzle',\n",
    "    'Bowling': 'Sports',\n",
    "    'Card Battle': 'Strategy',\n",
    "    'Combat Sport': 'Fighting',\n",
    "    'Command RTS': 'Strategy',\n",
    "    'Compilation': 'Others',\n",
    "    'Cricket': 'Sports',\n",
    "    'Dancing': 'Music',\n",
    "    'Defense': 'Strategy',\n",
    "    'Edutainment': 'Education',\n",
    "    'Exercise': 'Sports',\n",
    "    'FPS': 'Shooter',\n",
    "    'First-Person Adventure': 'Adventure',\n",
    "    'Fishing': 'Simulation',\n",
    "    'Football': 'Sports',\n",
    "    'Football Sim': 'Sports',\n",
    "    'Future Racing': 'Racing',\n",
    "    'Future Sport': 'Sports',\n",
    "    'Gambling': 'Strategy',\n",
    "    'Golf': 'Sports',\n",
    "    'Golf Sim': 'Sports',\n",
    "    'Hidden Object': 'Puzzle',\n",
    "    'Hockey': 'Sports',\n",
    "    'Hockey Sim': 'Sports',\n",
    "    \"Horizontal Shoot-'Em-Up\": 'Shooter',\n",
    "    'Horse Racing': 'Sports',\n",
    "    'Hunting': 'Simulation',\n",
    "    'Individual Sports': 'Sports',\n",
    "    'JRPG': 'RPG',\n",
    "    'Light Gun': 'Shooter',\n",
    "    'Linear Action Adventure': 'Adventure',\n",
    "    'Logic Puzzle': 'Puzzle',\n",
    "    'MMORPG': 'RPG',\n",
    "    'MOBA': 'Strategy',\n",
    "    'Management': 'Strategy',\n",
    "    'Marine Combat Sim': 'Simulation',\n",
    "    'Marine Sim': 'Simulation',\n",
    "    'Matching Puzzle': 'Puzzle',\n",
    "    'Metroidvania': 'Platformer',\n",
    "    'Miscellaneous': 'Others',\n",
    "    'Open-World Action': 'Action',\n",
    "    'Party': 'Casual',\n",
    "    'Pinball': 'Arcade',\n",
    "    'Point-and-Click': 'Adventure',\n",
    "    'Puzzle': 'Puzzle',\n",
    "    'RPG': 'RPG',\n",
    "    'Racing': 'Racing',\n",
    "    'Racing Sim': 'Racing',\n",
    "    'Rail Shooter': 'Shooter',\n",
    "    'Real-Time Strategy': 'Strategy',\n",
    "    'Real-Time Tactics': 'Strategy',\n",
    "    'Rhythm': 'Music',\n",
    "    'Roguelike': 'RPG',\n",
    "    'Rugby': 'Sports',\n",
    "    'Sandbox': 'Simulation',\n",
    "    'Simulation': 'Simulation',\n",
    "    'Skating': 'Sports',\n",
    "    'Skiing': 'Sports',\n",
    "    'Soccer': 'Sports',\n",
    "    'Soccer Management': 'Strategy',\n",
    "    'Soccer Sim': 'Sports',\n",
    "    'Space Combat Sim': 'Simulation',\n",
    "    'Space Sim': 'Simulation',\n",
    "    'Sports': 'Sports',\n",
    "    'Stacking Puzzle': 'Puzzle',\n",
    "    'Strategy': 'Strategy',\n",
    "    'Surfing': 'Sports',\n",
    "    'Survival': 'Adventure',\n",
    "    'Tactical FPS': 'Shooter',\n",
    "    'Tactical Third Person Shooter': 'Shooter',\n",
    "    'Team Sports': 'Sports',\n",
    "    'Tennis': 'Sports',\n",
    "    'Text Adventure': 'Adventure',\n",
    "    'Third Person Shooter': 'Shooter',\n",
    "    'Third-Person Adventure': 'Adventure',\n",
    "    \"Top-Down Shoot-'Em-Up\": 'Shooter',\n",
    "    'Train Sim': 'Simulation',\n",
    "    'Trainer RPG': 'RPG',\n",
    "    'Trivia': 'Puzzle',\n",
    "    'Turn-Based Strategy': 'Strategy',\n",
    "    'Turn-Based Tactics': 'Strategy',\n",
    "    'Tycoon': 'Strategy',\n",
    "    'Vehicle Combat Sim': 'Simulation',\n",
    "    'Vehicle Sim': 'Simulation',\n",
    "    \"Vertical Shoot-'Em-Up\": 'Shooter',\n",
    "    'Virtual Career': 'Simulation',\n",
    "    'Virtual Life': 'Simulation',\n",
    "    'Virtual Pet': 'Casual',\n",
    "    'Visual Novel': 'Adventure',\n",
    "    'Volleyball': 'Sports',\n",
    "    'Western RPG': 'RPG',\n",
    "    'Wrestling': 'Sports'\n",
    "}\n",
    "\n",
    "\n",
    "\n",
    "# Aplicación de la función a toda la columna de géneros en tu DataFrame\n",
    "df['genres'] = df['genres'].apply(apply_genre_mapping)\n"
   ]
  },
  {
   "cell_type": "code",
   "execution_count": 48,
   "metadata": {},
   "outputs": [
    {
     "data": {
      "text/html": [
       "<div>\n",
       "<style scoped>\n",
       "    .dataframe tbody tr th:only-of-type {\n",
       "        vertical-align: middle;\n",
       "    }\n",
       "\n",
       "    .dataframe tbody tr th {\n",
       "        vertical-align: top;\n",
       "    }\n",
       "\n",
       "    .dataframe thead th {\n",
       "        text-align: right;\n",
       "    }\n",
       "</style>\n",
       "<table border=\"1\" class=\"dataframe\">\n",
       "  <thead>\n",
       "    <tr style=\"text-align: right;\">\n",
       "      <th></th>\n",
       "      <th>metascore</th>\n",
       "      <th>userscore</th>\n",
       "      <th>title</th>\n",
       "      <th>genres</th>\n",
       "      <th>section</th>\n",
       "      <th>publisherName</th>\n",
       "      <th>platforms</th>\n",
       "      <th>releaseDate</th>\n",
       "      <th>summary</th>\n",
       "      <th>userReviewsSummary</th>\n",
       "      <th>url</th>\n",
       "      <th>publisherUrl</th>\n",
       "      <th>category</th>\n",
       "      <th>category2</th>\n",
       "    </tr>\n",
       "  </thead>\n",
       "  <tbody>\n",
       "    <tr>\n",
       "      <th>23</th>\n",
       "      <td>99</td>\n",
       "      <td>9.1</td>\n",
       "      <td>The Legend of Zelda: Ocarina of Time</td>\n",
       "      <td>Action</td>\n",
       "      <td>Nintendo 64</td>\n",
       "      <td>Nintendo</td>\n",
       "      <td>['Nintendo 64']</td>\n",
       "      <td>1998-11-23</td>\n",
       "      <td>As a young boy, Link is tricked by Ganondorf, ...</td>\n",
       "      <td>{'score': 9.1, 'reviewCount': 8393, 'positive'...</td>\n",
       "      <td>https://www.metacritic.com/game/the-legend-of-...</td>\n",
       "      <td>https://www.metacritic.com/company/nintendo/</td>\n",
       "      <td>None</td>\n",
       "      <td>others</td>\n",
       "    </tr>\n",
       "    <tr>\n",
       "      <th>22</th>\n",
       "      <td>98</td>\n",
       "      <td>8.2</td>\n",
       "      <td>SoulCalibur</td>\n",
       "      <td>Fighting</td>\n",
       "      <td>Dreamcast</td>\n",
       "      <td>Namco</td>\n",
       "      <td>['Dreamcast', 'iOS (iPhone/iPad)', 'Xbox 360']</td>\n",
       "      <td>1999-09-08</td>\n",
       "      <td>[Xbox Live Arcade]  Soulcalibur, the highest M...</td>\n",
       "      <td>{'score': 8.2, 'reviewCount': 414, 'positive':...</td>\n",
       "      <td>https://www.metacritic.com/game/soulcalibur</td>\n",
       "      <td>https://www.metacritic.com/company/namco/</td>\n",
       "      <td>None</td>\n",
       "      <td>others</td>\n",
       "    </tr>\n",
       "    <tr>\n",
       "      <th>19</th>\n",
       "      <td>98</td>\n",
       "      <td>8.1</td>\n",
       "      <td>Grand Theft Auto IV</td>\n",
       "      <td>Action</td>\n",
       "      <td>Xbox 360</td>\n",
       "      <td>Rockstar Games</td>\n",
       "      <td>['PlayStation 3', 'Xbox 360', 'PC']</td>\n",
       "      <td>2008-04-29</td>\n",
       "      <td>[Metacritic's 2008 PS3 Game of the Year; Also ...</td>\n",
       "      <td>{'score': 8.1, 'reviewCount': 2813, 'positive'...</td>\n",
       "      <td>https://www.metacritic.com/game/grand-theft-au...</td>\n",
       "      <td>https://www.metacritic.com/company/rockstar-ga...</td>\n",
       "      <td>None</td>\n",
       "      <td>others</td>\n",
       "    </tr>\n",
       "    <tr>\n",
       "      <th>8</th>\n",
       "      <td>97</td>\n",
       "      <td>8.9</td>\n",
       "      <td>Super Mario Odyssey</td>\n",
       "      <td>Platformer</td>\n",
       "      <td>Nintendo Switch</td>\n",
       "      <td>Nintendo</td>\n",
       "      <td>['Nintendo Switch']</td>\n",
       "      <td>2017-10-27</td>\n",
       "      <td>New Evolution of Mario Sandbox-Style Gameplay....</td>\n",
       "      <td>{'score': 8.9, 'reviewCount': 8119, 'positive'...</td>\n",
       "      <td>https://www.metacritic.com/game/super-mario-od...</td>\n",
       "      <td>https://www.metacritic.com/company/nintendo/</td>\n",
       "      <td>None</td>\n",
       "      <td>others</td>\n",
       "    </tr>\n",
       "    <tr>\n",
       "      <th>10</th>\n",
       "      <td>97</td>\n",
       "      <td>8.3</td>\n",
       "      <td>Grand Theft Auto III</td>\n",
       "      <td>Action</td>\n",
       "      <td>PlayStation 2</td>\n",
       "      <td>Rockstar Games</td>\n",
       "      <td>['PlayStation 2', 'PC', 'iOS (iPhone/iPad)', '...</td>\n",
       "      <td>2001-10-22</td>\n",
       "      <td>Players are put at the heart of their very own...</td>\n",
       "      <td>{'score': 8.3, 'reviewCount': 1106, 'positive'...</td>\n",
       "      <td>https://www.metacritic.com/game/grand-theft-au...</td>\n",
       "      <td>https://www.metacritic.com/company/rockstar-ga...</td>\n",
       "      <td>None</td>\n",
       "      <td>others</td>\n",
       "    </tr>\n",
       "  </tbody>\n",
       "</table>\n",
       "</div>"
      ],
      "text/plain": [
       "    metascore  userscore                                 title      genres  \\\n",
       "23         99        9.1  The Legend of Zelda: Ocarina of Time      Action   \n",
       "22         98        8.2                           SoulCalibur    Fighting   \n",
       "19         98        8.1                   Grand Theft Auto IV      Action   \n",
       "8          97        8.9                   Super Mario Odyssey  Platformer   \n",
       "10         97        8.3                  Grand Theft Auto III      Action   \n",
       "\n",
       "            section   publisherName  \\\n",
       "23      Nintendo 64        Nintendo   \n",
       "22        Dreamcast           Namco   \n",
       "19         Xbox 360  Rockstar Games   \n",
       "8   Nintendo Switch        Nintendo   \n",
       "10    PlayStation 2  Rockstar Games   \n",
       "\n",
       "                                            platforms releaseDate  \\\n",
       "23                                    ['Nintendo 64']  1998-11-23   \n",
       "22     ['Dreamcast', 'iOS (iPhone/iPad)', 'Xbox 360']  1999-09-08   \n",
       "19                ['PlayStation 3', 'Xbox 360', 'PC']  2008-04-29   \n",
       "8                                 ['Nintendo Switch']  2017-10-27   \n",
       "10  ['PlayStation 2', 'PC', 'iOS (iPhone/iPad)', '...  2001-10-22   \n",
       "\n",
       "                                              summary  \\\n",
       "23  As a young boy, Link is tricked by Ganondorf, ...   \n",
       "22  [Xbox Live Arcade]  Soulcalibur, the highest M...   \n",
       "19  [Metacritic's 2008 PS3 Game of the Year; Also ...   \n",
       "8   New Evolution of Mario Sandbox-Style Gameplay....   \n",
       "10  Players are put at the heart of their very own...   \n",
       "\n",
       "                                   userReviewsSummary  \\\n",
       "23  {'score': 9.1, 'reviewCount': 8393, 'positive'...   \n",
       "22  {'score': 8.2, 'reviewCount': 414, 'positive':...   \n",
       "19  {'score': 8.1, 'reviewCount': 2813, 'positive'...   \n",
       "8   {'score': 8.9, 'reviewCount': 8119, 'positive'...   \n",
       "10  {'score': 8.3, 'reviewCount': 1106, 'positive'...   \n",
       "\n",
       "                                                  url  \\\n",
       "23  https://www.metacritic.com/game/the-legend-of-...   \n",
       "22        https://www.metacritic.com/game/soulcalibur   \n",
       "19  https://www.metacritic.com/game/grand-theft-au...   \n",
       "8   https://www.metacritic.com/game/super-mario-od...   \n",
       "10  https://www.metacritic.com/game/grand-theft-au...   \n",
       "\n",
       "                                         publisherUrl category category2  \n",
       "23       https://www.metacritic.com/company/nintendo/     None    others  \n",
       "22          https://www.metacritic.com/company/namco/     None    others  \n",
       "19  https://www.metacritic.com/company/rockstar-ga...     None    others  \n",
       "8        https://www.metacritic.com/company/nintendo/     None    others  \n",
       "10  https://www.metacritic.com/company/rockstar-ga...     None    others  "
      ]
     },
     "execution_count": 48,
     "metadata": {},
     "output_type": "execute_result"
    }
   ],
   "source": [
    "df.head()"
   ]
  },
  {
   "cell_type": "markdown",
   "metadata": {},
   "source": [
    "### COLUMNA REALEASE DATE"
   ]
  },
  {
   "cell_type": "code",
   "execution_count": 49,
   "metadata": {},
   "outputs": [],
   "source": [
    "df['releaseDate'] = pd.to_datetime(df['releaseDate']).dt.strftime('%d-%m-%Y')\n",
    "\n",
    " # convertimos la columna a datetime y cambiamos el formato"
   ]
  },
  {
   "cell_type": "markdown",
   "metadata": {},
   "source": [
    "### COLUMNA PLATFORMS"
   ]
  },
  {
   "cell_type": "code",
   "execution_count": 50,
   "metadata": {},
   "outputs": [
    {
     "data": {
      "text/plain": [
       "array([\"['Nintendo 64']\",\n",
       "       \"['Dreamcast', 'iOS (iPhone/iPad)', 'Xbox 360']\",\n",
       "       \"['PlayStation 3', 'Xbox 360', 'PC']\", ...,\n",
       "       \"['Game Boy Advance', 'Wii', 'DS', 'PC']\",\n",
       "       \"['Xbox 360', 'PlayStation 3', 'Wii U', '3DS', 'PC']\",\n",
       "       \"['PC', 'DS', 'Game Boy Advance', 'Wii']\"], dtype=object)"
      ]
     },
     "execution_count": 50,
     "metadata": {},
     "output_type": "execute_result"
    }
   ],
   "source": [
    "df['platforms'].unique() #observamos que los valores de la columna platforms están en listas"
   ]
  },
  {
   "cell_type": "code",
   "execution_count": 51,
   "metadata": {},
   "outputs": [],
   "source": [
    "df['platforms']  = df['platforms'].apply(lambda x: ', '.join(ast.literal_eval(x)))  \n",
    "# usamos el módulo ast para evaluar las listas en las cadenas y sacar los elementos"
   ]
  },
  {
   "cell_type": "markdown",
   "metadata": {},
   "source": [
    "### COLUMNA USER REVIEW SUMMARY"
   ]
  },
  {
   "cell_type": "code",
   "execution_count": 53,
   "metadata": {},
   "outputs": [
    {
     "data": {
      "text/plain": [
       "array([\"{'score': 9.1, 'reviewCount': 8393, 'positive': 7541, 'neutral': 342, 'negative': 510}\",\n",
       "       \"{'score': 8.2, 'reviewCount': 414, 'positive': 330, 'neutral': 36, 'negative': 48}\",\n",
       "       \"{'score': 8.1, 'reviewCount': 2813, 'positive': 2131, 'neutral': 431, 'negative': 251}\",\n",
       "       ...,\n",
       "       \"{'score': 1.6, 'reviewCount': 60, 'positive': 8, 'neutral': 0, 'negative': 52}\",\n",
       "       \"{'score': 4.9, 'reviewCount': 47, 'positive': 21, 'neutral': 2, 'negative': 24}\",\n",
       "       \"{'score': 2.7, 'reviewCount': 220, 'positive': 56, 'neutral': 0, 'negative': 164}\"],\n",
       "      dtype=object)"
      ]
     },
     "execution_count": 53,
     "metadata": {},
     "output_type": "execute_result"
    }
   ],
   "source": [
    "df['userReviewsSummary'].unique()"
   ]
  },
  {
   "cell_type": "code",
   "execution_count": 54,
   "metadata": {},
   "outputs": [],
   "source": [
    "df['userReviewsSummary'] = df['userReviewsSummary'].apply(ast.literal_eval)  # obtenemos los valores de la lista"
   ]
  },
  {
   "cell_type": "code",
   "execution_count": 55,
   "metadata": {},
   "outputs": [],
   "source": [
    "df['reviewCount'] = df['userReviewsSummary'].apply(lambda x: x.get('reviewCount'))  # para cada valor, creamos una columna nueva\n",
    "df['positive'] = df['userReviewsSummary'].apply(lambda x: x.get('positive'))\n",
    "df['neutral'] = df['userReviewsSummary'].apply(lambda x: x.get('neutral'))\n",
    "df['negative'] = df['userReviewsSummary'].apply(lambda x: x.get('negative'))"
   ]
  },
  {
   "cell_type": "code",
   "execution_count": 57,
   "metadata": {},
   "outputs": [],
   "source": [
    "df.drop(['userReviewsSummary'], axis=1, inplace=True)  # eliminamos la columna userReviewsSummary, ya que tenemos la información en las nuevas columnas"
   ]
  },
  {
   "cell_type": "markdown",
   "metadata": {},
   "source": [
    "### ÚLTIMOS PASOS: REINDEX, REDUCCIÓN Y CATEGORIZACIÓN DE COLUMNAS NUMÉRICAS"
   ]
  },
  {
   "cell_type": "code",
   "execution_count": 63,
   "metadata": {},
   "outputs": [],
   "source": [
    "# vamos a renombrar columnas para que sean más claras\n",
    "\n",
    "columnas = {'publisherName': 'publisher', 'releaseDate': 'release','publisherUrl': 'publisher_url','reviewCount': 'reviews', 'url': 'game_url'}\n",
    "df.rename(columns=columnas, inplace=True)"
   ]
  },
  {
   "cell_type": "code",
   "execution_count": 65,
   "metadata": {},
   "outputs": [],
   "source": [
    "df.columns = df.columns.str.capitalize()  # capitalizamos las columnas"
   ]
  },
  {
   "cell_type": "code",
   "execution_count": 68,
   "metadata": {},
   "outputs": [],
   "source": [
    "df = df.reset_index(drop=True)  # reseteamos el índice"
   ]
  },
  {
   "cell_type": "code",
   "execution_count": 73,
   "metadata": {},
   "outputs": [
    {
     "name": "stdout",
     "output_type": "stream",
     "text": [
      "<class 'pandas.core.frame.DataFrame'>\n",
      "RangeIndex: 12607 entries, 0 to 12606\n",
      "Data columns (total 15 columns):\n",
      " #   Column         Non-Null Count  Dtype  \n",
      "---  ------         --------------  -----  \n",
      " 0   Metascore      12607 non-null  int32  \n",
      " 1   Userscore      12607 non-null  float64\n",
      " 2   Title          12607 non-null  object \n",
      " 3   Genres         12607 non-null  object \n",
      " 4   Section        12607 non-null  object \n",
      " 5   Publisher      12607 non-null  object \n",
      " 6   Platforms      12607 non-null  object \n",
      " 7   Release        12607 non-null  object \n",
      " 8   Summary        12607 non-null  object \n",
      " 9   Game_url       12607 non-null  object \n",
      " 10  Publisher_url  12607 non-null  object \n",
      " 11  Reviews        12607 non-null  int64  \n",
      " 12  Positive       12607 non-null  int64  \n",
      " 13  Neutral        12607 non-null  int64  \n",
      " 14  Negative       12607 non-null  int64  \n",
      "dtypes: float64(1), int32(1), int64(4), object(9)\n",
      "memory usage: 1.4+ MB\n"
     ]
    }
   ],
   "source": [
    "df.info() #vamos a proceder a reducir el tamaño de los datos para que sea más fácil trabajar con ellos"
   ]
  },
  {
   "cell_type": "code",
   "execution_count": 74,
   "metadata": {},
   "outputs": [],
   "source": [
    "int_columns = df.select_dtypes(include=['int64']).columns  # primero reducimos el tamaño de las columnas enteras\n",
    "df[int_columns] = df[int_columns].astype('int32')"
   ]
  },
  {
   "cell_type": "code",
   "execution_count": 76,
   "metadata": {},
   "outputs": [],
   "source": [
    "df['Userscore'] = df['Userscore'].astype('float32')  # reducimos el tamaño de la columna Userscore"
   ]
  },
  {
   "cell_type": "code",
   "execution_count": 77,
   "metadata": {},
   "outputs": [],
   "source": [
    "df = df.apply(categorize)  # utilizamos unas función para categorizar"
   ]
  },
  {
   "cell_type": "code",
   "execution_count": 80,
   "metadata": {},
   "outputs": [
    {
     "name": "stdout",
     "output_type": "stream",
     "text": [
      "<class 'pandas.core.frame.DataFrame'>\n",
      "RangeIndex: 12607 entries, 0 to 12606\n",
      "Data columns (total 15 columns):\n",
      " #   Column         Non-Null Count  Dtype   \n",
      "---  ------         --------------  -----   \n",
      " 0   Metascore      12607 non-null  category\n",
      " 1   Userscore      12607 non-null  category\n",
      " 2   Title          12607 non-null  object  \n",
      " 3   Genres         12607 non-null  object  \n",
      " 4   Section        12607 non-null  object  \n",
      " 5   Publisher      12607 non-null  object  \n",
      " 6   Platforms      12607 non-null  object  \n",
      " 7   Release        12607 non-null  object  \n",
      " 8   Summary        12607 non-null  object  \n",
      " 9   Game_url       12607 non-null  object  \n",
      " 10  Publisher_url  12607 non-null  object  \n",
      " 11  Reviews        12607 non-null  category\n",
      " 12  Positive       12607 non-null  category\n",
      " 13  Neutral        12607 non-null  category\n",
      " 14  Negative       12607 non-null  category\n",
      "dtypes: category(6), object(9)\n",
      "memory usage: 17.2 MB\n"
     ]
    }
   ],
   "source": [
    "df.info(memory_usage= 'deep')  # observamos que el tamaño del dataset se ha reducido considerablemente"
   ]
  },
  {
   "cell_type": "markdown",
   "metadata": {},
   "source": [
    "### EXPORTAMOS EL CSV TRANSFORMADO"
   ]
  },
  {
   "cell_type": "code",
   "execution_count": 79,
   "metadata": {},
   "outputs": [],
   "source": [
    "df.to_csv('..\\\\Proyecto_Final\\\\data\\\\metacritic_transform.csv', index=False)  # exportamos el dataset transformado"
   ]
  }
 ],
 "metadata": {
  "kernelspec": {
   "display_name": "base",
   "language": "python",
   "name": "python3"
  },
  "language_info": {
   "codemirror_mode": {
    "name": "ipython",
    "version": 3
   },
   "file_extension": ".py",
   "mimetype": "text/x-python",
   "name": "python",
   "nbconvert_exporter": "python",
   "pygments_lexer": "ipython3",
   "version": "3.11.4"
  }
 },
 "nbformat": 4,
 "nbformat_minor": 2
}
