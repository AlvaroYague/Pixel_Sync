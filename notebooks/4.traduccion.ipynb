{
 "cells": [
  {
   "cell_type": "markdown",
   "metadata": {},
   "source": [
    "# 4. Traducción de los datos"
   ]
  },
  {
   "cell_type": "markdown",
   "metadata": {},
   "source": [
    "### Los datos recibidos están en inglés. Es interesante tener la base de datos tanto en inglés como en español para posibles usos futuros, por lo que haremos una pequeña transformación de los datos\n"
   ]
  },
  {
   "cell_type": "code",
   "execution_count": null,
   "metadata": {
    "vscode": {
     "languageId": "plaintext"
    }
   },
   "outputs": [],
   "source": [
    "#%pip install googletrans==4.0.0-rc1"
   ]
  },
  {
   "cell_type": "code",
   "execution_count": 7,
   "metadata": {},
   "outputs": [],
   "source": [
    "import pandas as pd                   \n",
    "from googletrans import Translator  # utilizaremos la librería googletrans para traducir los textos al español\n",
    "from funciones import * # importamos las funciones que hemos creado en el archivo funciones.py"
   ]
  },
  {
   "cell_type": "code",
   "execution_count": 8,
   "metadata": {},
   "outputs": [],
   "source": [
    "df = pd.read_csv('..\\\\Proyecto_Final\\\\data\\\\metacritic_transform.csv')"
   ]
  },
  {
   "cell_type": "code",
   "execution_count": 10,
   "metadata": {},
   "outputs": [
    {
     "data": {
      "text/plain": [
       "Index(['Metascore', 'Userscore', 'Title', 'Genres', 'Section', 'Publisher',\n",
       "       'Platforms', 'Release', 'Summary', 'Game_url', 'Publisher_url',\n",
       "       'Reviews', 'Positive', 'Neutral', 'Negative'],\n",
       "      dtype='object')"
      ]
     },
     "execution_count": 10,
     "metadata": {},
     "output_type": "execute_result"
    }
   ],
   "source": [
    "df.columns"
   ]
  },
  {
   "cell_type": "code",
   "execution_count": 11,
   "metadata": {},
   "outputs": [],
   "source": [
    "df['Summary'] = df['Summary'].apply(traducir_texto, destino='es') \n",
    "  \n",
    " # traducimos los textos de la columna Summary utilizando una función para traducir texto"
   ]
  },
  {
   "cell_type": "code",
   "execution_count": 14,
   "metadata": {},
   "outputs": [],
   "source": [
    "df.rename(columns={'Summary':'Resumen', 'Title':'Título', 'Genres':'Género','Section':'Sección', 'Publisher':'Distribuidor','Platforms':'Plataformas','Release':'Lanzamiento','Game_url':'Juego_url','Publisher_url':'Distribuidor_url','Reviews':'Reseñas','Positive':'Positiva','Negative':'Negativa'}, inplace=True)\n",
    "\n",
    "# renombramos las columnas para que tengan nombres en español"
   ]
  },
  {
   "cell_type": "code",
   "execution_count": 17,
   "metadata": {},
   "outputs": [],
   "source": [
    "map = {\n",
    "'Action': 'Acción',\n",
    "'Fighting':'Lucha',\n",
    "'Platformer':'Plataformas',\n",
    "'Sports':'Deportes',\n",
    "'Shooter':'Shooter',\n",
    "'RPG':'RPG',\n",
    "'Others':'Otros',\n",
    "'Racing':'Carreras',\n",
    "'Adventure':'Aventura',\n",
    "'Strategy':'Estrategia',\n",
    "'Music':'Música',\n",
    "'Arcade':'Arcade',\n",
    "'Simulation':'Simulación',\n",
    "'Puzzle':'Puzzle',\n",
    "'Casual':'Casual',\n",
    "'Education':'Educación'\n",
    "}\n",
    "\n",
    "df['Género'].replace(map, inplace=True)       # utilizamos un mapeo para traducir los géneros al español"
   ]
  },
  {
   "cell_type": "code",
   "execution_count": 19,
   "metadata": {},
   "outputs": [
    {
     "data": {
      "text/html": [
       "<div>\n",
       "<style scoped>\n",
       "    .dataframe tbody tr th:only-of-type {\n",
       "        vertical-align: middle;\n",
       "    }\n",
       "\n",
       "    .dataframe tbody tr th {\n",
       "        vertical-align: top;\n",
       "    }\n",
       "\n",
       "    .dataframe thead th {\n",
       "        text-align: right;\n",
       "    }\n",
       "</style>\n",
       "<table border=\"1\" class=\"dataframe\">\n",
       "  <thead>\n",
       "    <tr style=\"text-align: right;\">\n",
       "      <th></th>\n",
       "      <th>Metascore</th>\n",
       "      <th>Userscore</th>\n",
       "      <th>Título</th>\n",
       "      <th>Género</th>\n",
       "      <th>Sección</th>\n",
       "      <th>Distribuidor</th>\n",
       "      <th>Plataformas</th>\n",
       "      <th>Lanzamiento</th>\n",
       "      <th>Resumen</th>\n",
       "      <th>Juego_url</th>\n",
       "      <th>Distribuidor_url</th>\n",
       "      <th>Reseñas</th>\n",
       "      <th>Positiva</th>\n",
       "      <th>Neutral</th>\n",
       "      <th>Negativa</th>\n",
       "    </tr>\n",
       "  </thead>\n",
       "  <tbody>\n",
       "    <tr>\n",
       "      <th>0</th>\n",
       "      <td>99</td>\n",
       "      <td>9.1</td>\n",
       "      <td>The Legend of Zelda: Ocarina of Time</td>\n",
       "      <td>Acción</td>\n",
       "      <td>Nintendo 64</td>\n",
       "      <td>Nintendo</td>\n",
       "      <td>Nintendo 64</td>\n",
       "      <td>23-11-1998</td>\n",
       "      <td>Cuando era niño, Link es engañado por Ganondor...</td>\n",
       "      <td>https://www.metacritic.com/game/the-legend-of-...</td>\n",
       "      <td>https://www.metacritic.com/company/nintendo/</td>\n",
       "      <td>8393</td>\n",
       "      <td>7541</td>\n",
       "      <td>342</td>\n",
       "      <td>510</td>\n",
       "    </tr>\n",
       "    <tr>\n",
       "      <th>1</th>\n",
       "      <td>98</td>\n",
       "      <td>8.2</td>\n",
       "      <td>SoulCalibur</td>\n",
       "      <td>Lucha</td>\n",
       "      <td>Dreamcast</td>\n",
       "      <td>Namco</td>\n",
       "      <td>Dreamcast, iOS (iPhone/iPad), Xbox 360</td>\n",
       "      <td>08-09-1999</td>\n",
       "      <td>[Xbox Live Arcade] Soulcalibur, el juego con m...</td>\n",
       "      <td>https://www.metacritic.com/game/soulcalibur</td>\n",
       "      <td>https://www.metacritic.com/company/namco/</td>\n",
       "      <td>414</td>\n",
       "      <td>330</td>\n",
       "      <td>36</td>\n",
       "      <td>48</td>\n",
       "    </tr>\n",
       "    <tr>\n",
       "      <th>2</th>\n",
       "      <td>98</td>\n",
       "      <td>8.1</td>\n",
       "      <td>Grand Theft Auto IV</td>\n",
       "      <td>Acción</td>\n",
       "      <td>Xbox 360</td>\n",
       "      <td>Rockstar Games</td>\n",
       "      <td>PlayStation 3, Xbox 360, PC</td>\n",
       "      <td>29-04-2008</td>\n",
       "      <td>[Juego de PS3 del año 2008 de Metacritic; Tamb...</td>\n",
       "      <td>https://www.metacritic.com/game/grand-theft-au...</td>\n",
       "      <td>https://www.metacritic.com/company/rockstar-ga...</td>\n",
       "      <td>2813</td>\n",
       "      <td>2131</td>\n",
       "      <td>431</td>\n",
       "      <td>251</td>\n",
       "    </tr>\n",
       "    <tr>\n",
       "      <th>3</th>\n",
       "      <td>97</td>\n",
       "      <td>8.9</td>\n",
       "      <td>Super Mario Odyssey</td>\n",
       "      <td>Plataformas</td>\n",
       "      <td>Nintendo Switch</td>\n",
       "      <td>Nintendo</td>\n",
       "      <td>Nintendo Switch</td>\n",
       "      <td>27-10-2017</td>\n",
       "      <td>Nueva evolución del juego estilo Mario Sandbox...</td>\n",
       "      <td>https://www.metacritic.com/game/super-mario-od...</td>\n",
       "      <td>https://www.metacritic.com/company/nintendo/</td>\n",
       "      <td>8119</td>\n",
       "      <td>7250</td>\n",
       "      <td>433</td>\n",
       "      <td>436</td>\n",
       "    </tr>\n",
       "    <tr>\n",
       "      <th>4</th>\n",
       "      <td>97</td>\n",
       "      <td>8.3</td>\n",
       "      <td>Grand Theft Auto III</td>\n",
       "      <td>Acción</td>\n",
       "      <td>PlayStation 2</td>\n",
       "      <td>Rockstar Games</td>\n",
       "      <td>PlayStation 2, PC, iOS (iPhone/iPad), Xbox, Pl...</td>\n",
       "      <td>22-10-2001</td>\n",
       "      <td>Los jugadores se sumergen en el corazón de su ...</td>\n",
       "      <td>https://www.metacritic.com/game/grand-theft-au...</td>\n",
       "      <td>https://www.metacritic.com/company/rockstar-ga...</td>\n",
       "      <td>1106</td>\n",
       "      <td>867</td>\n",
       "      <td>184</td>\n",
       "      <td>55</td>\n",
       "    </tr>\n",
       "  </tbody>\n",
       "</table>\n",
       "</div>"
      ],
      "text/plain": [
       "   Metascore  Userscore                                Título       Género  \\\n",
       "0         99        9.1  The Legend of Zelda: Ocarina of Time       Acción   \n",
       "1         98        8.2                           SoulCalibur        Lucha   \n",
       "2         98        8.1                   Grand Theft Auto IV       Acción   \n",
       "3         97        8.9                   Super Mario Odyssey  Plataformas   \n",
       "4         97        8.3                  Grand Theft Auto III       Acción   \n",
       "\n",
       "           Sección    Distribuidor  \\\n",
       "0      Nintendo 64        Nintendo   \n",
       "1        Dreamcast           Namco   \n",
       "2         Xbox 360  Rockstar Games   \n",
       "3  Nintendo Switch        Nintendo   \n",
       "4    PlayStation 2  Rockstar Games   \n",
       "\n",
       "                                         Plataformas Lanzamiento  \\\n",
       "0                                        Nintendo 64  23-11-1998   \n",
       "1             Dreamcast, iOS (iPhone/iPad), Xbox 360  08-09-1999   \n",
       "2                        PlayStation 3, Xbox 360, PC  29-04-2008   \n",
       "3                                    Nintendo Switch  27-10-2017   \n",
       "4  PlayStation 2, PC, iOS (iPhone/iPad), Xbox, Pl...  22-10-2001   \n",
       "\n",
       "                                             Resumen  \\\n",
       "0  Cuando era niño, Link es engañado por Ganondor...   \n",
       "1  [Xbox Live Arcade] Soulcalibur, el juego con m...   \n",
       "2  [Juego de PS3 del año 2008 de Metacritic; Tamb...   \n",
       "3  Nueva evolución del juego estilo Mario Sandbox...   \n",
       "4  Los jugadores se sumergen en el corazón de su ...   \n",
       "\n",
       "                                           Juego_url  \\\n",
       "0  https://www.metacritic.com/game/the-legend-of-...   \n",
       "1        https://www.metacritic.com/game/soulcalibur   \n",
       "2  https://www.metacritic.com/game/grand-theft-au...   \n",
       "3  https://www.metacritic.com/game/super-mario-od...   \n",
       "4  https://www.metacritic.com/game/grand-theft-au...   \n",
       "\n",
       "                                    Distribuidor_url  Reseñas  Positiva  \\\n",
       "0       https://www.metacritic.com/company/nintendo/     8393      7541   \n",
       "1          https://www.metacritic.com/company/namco/      414       330   \n",
       "2  https://www.metacritic.com/company/rockstar-ga...     2813      2131   \n",
       "3       https://www.metacritic.com/company/nintendo/     8119      7250   \n",
       "4  https://www.metacritic.com/company/rockstar-ga...     1106       867   \n",
       "\n",
       "   Neutral  Negativa  \n",
       "0      342       510  \n",
       "1       36        48  \n",
       "2      431       251  \n",
       "3      433       436  \n",
       "4      184        55  "
      ]
     },
     "execution_count": 19,
     "metadata": {},
     "output_type": "execute_result"
    }
   ],
   "source": [
    "df.head()"
   ]
  },
  {
   "cell_type": "code",
   "execution_count": 21,
   "metadata": {},
   "outputs": [],
   "source": [
    "df.to_csv('..\\\\Proyecto_Final\\\\data\\\\metacritic_es.csv', index=False)   # guardamos el dataframe en un archivo csv"
   ]
  }
 ],
 "metadata": {
  "kernelspec": {
   "display_name": "base",
   "language": "python",
   "name": "python3"
  },
  "language_info": {
   "codemirror_mode": {
    "name": "ipython",
    "version": 3
   },
   "file_extension": ".py",
   "mimetype": "text/x-python",
   "name": "python",
   "nbconvert_exporter": "python",
   "pygments_lexer": "ipython3",
   "version": "3.11.4"
  }
 },
 "nbformat": 4,
 "nbformat_minor": 2
}
